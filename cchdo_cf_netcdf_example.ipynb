{
 "cells": [
  {
   "cell_type": "code",
   "execution_count": 2,
   "metadata": {},
   "outputs": [],
   "source": [
    "import xarray as xr\n",
    "import pandas as pd\n",
    "import numpy as np\n",
    "from datetime import datetime"
   ]
  },
  {
   "cell_type": "markdown",
   "metadata": {},
   "source": [
    "## Things we want to \"demo\" in this handcrafted example files\n",
    "\n",
    "* Profiles of differing number of \"levels\" (e.g. less than 36 bottles, ctds of different depth)\n",
    "* variables that need more information (e.g. optical things which need wavelengths, pathlengths, angles, etc..)\n",
    "* ACDD attrs at the variable level\n",
    "* Combined ACDD variable level vars into global level (for compliance with actual ACDD-1.3)\n",
    "* quality flags (following CF)\n",
    "* compression? (zlib)\n",
    "* Use of cchdo specific attrs\n",
    "* \"Complete\" capture of \"Bob's Header\" in standardized attrs\n",
    "\n",
    "Chosen cruise: 2016 I08S (33RR20160208)"
   ]
  },
  {
   "cell_type": "code",
   "execution_count": 3,
   "metadata": {},
   "outputs": [],
   "source": [
    "with open(\"33RR20160208_hy1.csv\", 'r', encoding='utf8') as f:\n",
    "    bottle_data = f.read()\n",
    "comments = [line for line in bottle_data.splitlines() if line.startswith(\"#\")]\n",
    "\n",
    "def date_parser(dt):\n",
    "    if dt == \"nan nan\":\n",
    "        return None\n",
    "    return pd.datetime.strptime(dt, \"%Y%m%d        %H%M\")\n",
    "\n",
    "data = pd.read_csv(\"33RR20160208_hy1.csv\", skiprows=[0,1], comment='#', header=[0], parse_dates=[[\"DATE\", \"TIME\"]], date_parser=date_parser, na_values=[-999])\n",
    "# drop the \"units\" and \"END_DATA\" for ease of working with\n",
    "data = data.drop(0).drop(data.index[-1])"
   ]
  },
  {
   "cell_type": "code",
   "execution_count": 4,
   "metadata": {},
   "outputs": [],
   "source": [
    "data[\"OXYGEN\"] = data[\"OXYGEN\"].astype(float)\n",
    "data.loc[data[\"OXYGEN\"]==-999, 'OXYGEN'] = np.nan"
   ]
  },
  {
   "cell_type": "code",
   "execution_count": 5,
   "metadata": {},
   "outputs": [],
   "source": [
    "#non fancy select some stations\n",
    "stn1 = data[:20]\n",
    "stn2 = data[20:42]\n",
    "stn6 = data[134:170]\n",
    "\n",
    "stations = [stn1, stn2, stn6]"
   ]
  },
  {
   "cell_type": "code",
   "execution_count": 6,
   "metadata": {},
   "outputs": [],
   "source": [
    "#lets grab some easy 1d vars\n",
    "expocode = xr.DataArray(\n",
    "    data=[s['EXPOCODE'].iloc[0] for s in stations],\n",
    "    dims=['N_PROF'],\n",
    "    attrs={\n",
    "        \"whp_name\": \"EXPOCODE\"\n",
    "    }\n",
    ")\n",
    "stnnbr = xr.DataArray(\n",
    "    data=[str(int(s['STNNBR'].iloc[0])) for s in stations],\n",
    "    dims=['N_PROF'],\n",
    "    attrs={\n",
    "        \"whp_name\": \"STNNBR\"\n",
    "    }\n",
    ")\n",
    "castno = xr.DataArray(\n",
    "    data=[int(s['CASTNO'].iloc[0]) for s in stations],\n",
    "    dims=['N_PROF'],\n",
    "    attrs={\n",
    "        \"whp_name\": \"CASTNO\"\n",
    "    }\n",
    ")\n",
    "woce = xr.DataArray(\n",
    "    data=[str(s['SECT_ID'].str.strip().iloc[0]) for s in stations],\n",
    "    dims=['N_PROF'],\n",
    "    attrs={\n",
    "        \"whp_name\": \"SECT_ID\"\n",
    "    }\n",
    ")\n",
    "lat = xr.DataArray(\n",
    "    data=[(s['LATITUDE'].iloc[0]) for s in stations],\n",
    "    dims=['N_PROF'],\n",
    "    attrs={\n",
    "        \"standard_name\": \"latitude\",\n",
    "        \"units\": \"degrees_north\",\n",
    "        \"axis\": \"Y\",\n",
    "    }\n",
    ")\n",
    "lon = xr.DataArray(\n",
    "    data=[(s['LONGITUDE'].iloc[0]) for s in stations],\n",
    "    dims=['N_PROF'],\n",
    "    attrs={\n",
    "        \"standard_name\": \"latitude\",\n",
    "        \"units\": \"degrees_east\",\n",
    "        \"axis\": \"X\",\n",
    "    }\n",
    ")\n",
    "date = xr.DataArray(\n",
    "    data=[(s['DATE_TIME'].iloc[0]) for s in stations],\n",
    "    dims=['N_PROF'],\n",
    "    attrs={\n",
    "        \"standard_name\": \"time\",\n",
    "        \"axis\": \"T\",\n",
    "    }\n",
    ")"
   ]
  },
  {
   "cell_type": "code",
   "execution_count": 7,
   "metadata": {},
   "outputs": [],
   "source": [
    "# Lets try a 2d thing\n",
    "ctdprs = xr.DataArray(\n",
    "    data=pd.DataFrame([s['CTDPRS'].astype(float).values[::-1] for s in stations]).values,\n",
    "    dims=['N_PROF', \"N_LEVEL\"],\n",
    "    attrs={\n",
    "        \"standard_name\": \"sea_water_pressure\",\n",
    "        \"units\": \"dbar\",\n",
    "        \"axis\": \"Z\",\n",
    "        \"positive\": \"down\",\n",
    "        \"whp_name\": \"CTDPRS\",\n",
    "        \"whp_unit\": \"DBAR\"\n",
    "    }\n",
    ")\n",
    "oxygen = xr.DataArray(\n",
    "    data=pd.DataFrame([s['OXYGEN'].astype(float).values[::-1] for s in stations]).values,\n",
    "    dims=['N_PROF', \"N_LEVEL\"],\n",
    "    attrs={\n",
    "        \"standard_name\": \"moles_of_oxygen_per_unit_mass_in_sea_water\",\n",
    "        \"units\": \"umol kg-1\",\n",
    "        \"whp_name\": \"OXYGEN\",\n",
    "        \"whp_unit\": \"UMOL/KG\",\n",
    "        \"creator_name\": \"Swift, James\",\n",
    "        \"creator_email\": \"jswift@ucsd.edu\",\n",
    "        \"creator_institution\": \"Scripps Institution of Oceanography\",\n",
    "        \"geospatial_bounds\": \"MULTIPOINT ((78.3815 -66.6027), (78.2986 -66.4997), (78.0102 -66.15))\",\n",
    "        \"geospatial_lat_min\": -66.6027,\n",
    "        \"geospatial_lat_max\": -66.15,\n",
    "        \"geospatial_lon_min\": 78.0102,\n",
    "        \"geospatial_lon_max\": 78.3815,\n",
    "        \"creator_type\": \"person\",\n",
    "        \"program\": \"GO-SHIP\",\n",
    "        \"contributor_name\": [\"Barna, Andrew\",\"Becker, Susan\"],\n",
    "        \"contributor_role\": [\"Shipboard Tech\",\"Shipboard Tech\"],\n",
    "        \"geospatial_lat_units\": \"degrees_north\",\n",
    "        \"geospatial_lon_units\": \"degrees_east\",\n",
    "        \"date_issued\": \"2016-04-12\",\n",
    "    },\n",
    "    coords={\"pressure\": ctdprs, \"latitude\": lat, \"longitude\": lon, \"date\": date}\n",
    ")\n",
    "oxygen_qf = xr.DataArray(\n",
    "    data=pd.DataFrame([s['OXYGEN_FLAG_W'].astype(int).values[::-1] for s in stations]).values,\n",
    "    dims=['N_PROF', \"N_LEVEL\"],\n",
    "    attrs={\n",
    "        \"standard_name\": \"moles_of_oxygen_per_unit_mass_in_sea_water status_flag\",\n",
    "        \"whp_name\": \"OXYGEN_FLAG_W\",\n",
    "        \"flag_values\": \"1b 2b 3b 4b 5b 6b 7b 8b 9b\",\n",
    "        \"flag_meanings\": \"def1 def2 def3 def4 def5 def6 def7 def8 def9\",\n",
    "    },\n",
    "    encoding={\n",
    "        \"dtype\": np.int8,\n",
    "        \"_FillValue\": 9,\n",
    "    }\n",
    ")"
   ]
  },
  {
   "cell_type": "code",
   "execution_count": 8,
   "metadata": {},
   "outputs": [],
   "source": [
    "# pick another param, remove a station for demo purposes\n",
    "ph_data = pd.DataFrame([s['PH_TOT'].astype(float).values[::-1] for s in stations]).values\n",
    "ph_data[0] = np.nan\n",
    "ph_qf_data = pd.DataFrame([s['PH_TOT_FLAG_W'].astype(int).values[::-1] for s in stations]).values\n",
    "ph_qf_data[0] = np.nan\n",
    "ph = xr.DataArray(\n",
    "    data=ph_data,\n",
    "    dims=['N_PROF', \"N_LEVEL\"],\n",
    "    attrs={\n",
    "        \"standard_name\": \"sea_water_ph_reported_on_total_scale\",\n",
    "        \"units\": \"1\",\n",
    "        \"whp_name\": \"PH_TOT\",\n",
    "        \"creator_name\": \"Dickson, Andrew\",\n",
    "        \"creator_email\": \"adickson@ucsd.edu\",\n",
    "        \"creator_institution\": \"Scripps Institution of Oceanography\",\n",
    "        \"geospatial_bounds\": \"MULTIPOINT ((78.2986 -66.4997), (78.0102 -66.15))\",\n",
    "        \"geospatial_lat_min\":-66.4997,\n",
    "        \"geospatial_lat_max\": -66.15,\n",
    "        \"geospatial_lon_min\": 78.0102,\n",
    "        \"geospatial_lon_max\": 78.2986,\n",
    "        \"creator_type\": \"person\",\n",
    "        \"program\": \"GO-SHIP\",\n",
    "        \"contributor_name\": [\"Belmonte, Manuel\",\"Cervantes, David\"],\n",
    "        \"contributor_role\": [\"Shipboard Tech\",\"Shipboard Tech\"],\n",
    "        \"geospatial_lat_units\": \"degrees_north\",\n",
    "        \"geospatial_lon_units\": \"degrees_east\",\n",
    "        \"date_issued\": \"2016-04-12\",\n",
    "    },\n",
    "    coords={\"pressure\": ctdprs, \"latitude\": lat, \"longitude\": lon, \"date\": date}\n",
    ")\n",
    "ph_qf = xr.DataArray(\n",
    "    data=ph_qf_data,\n",
    "    dims=['N_PROF', \"N_LEVEL\"],\n",
    "    attrs={\n",
    "        \"standard_name\": \"sea_water_ph_reported_on_total_scale status_flag\",\n",
    "        \"whp_name\": \"PH_TOT_FLAG_W\",\n",
    "        \"flag_values\": \"1b 2b 3b 4b 5b 6b 7b 8b 9b\",\n",
    "        \"flag_meanings\": \"def1 def2 def3 def4 def5 def6 def7 def8 def9\",\n",
    "    },\n",
    "    encoding={\n",
    "        \"dtype\": np.int8,\n",
    "        \"_FillValue\": 9,\n",
    "    }\n",
    ")"
   ]
  },
  {
   "cell_type": "code",
   "execution_count": 9,
   "metadata": {},
   "outputs": [],
   "source": [
    "# some \"fake CDOM data\"\n",
    "fake = pd.read_csv(\"cdom.csv\", header=None, na_values=[-999, 9]).values\n",
    "wavelength = xr.DataArray(\n",
    "    data=[325, 370, 443],\n",
    "    dims=[\"N_WAVELENGTH0\"],\n",
    "    attrs={\n",
    "        \"standard_name\": \"radiation_wavelength\",\n",
    "        \"units\": \"nm\"\n",
    "    }\n",
    ")\n",
    "cdom_data = np.empty((3,36,3))\n",
    "cdom_data.fill(np.nan)\n",
    "cdom_data[2,:,0] = fake[:,0]\n",
    "cdom_data[2,:,1] = fake[:,2]\n",
    "cdom_data[2,:,2] = fake[:,4]\n",
    "cdom_qc = np.empty((3,36,3))\n",
    "cdom_qc.fill(np.nan)\n",
    "cdom_qc[2,:,0] = fake[:,1]\n",
    "cdom_qc[2,:,1] = fake[:,3]\n",
    "cdom_qc[2,:,2] = fake[:,5]\n",
    "cdom = xr.DataArray(\n",
    "    data=cdom_data,\n",
    "    dims=['N_PROF', \"N_LEVEL\", \"N_WAVELENGTH0\"],\n",
    "    coords={\"pressure\": ctdprs, \"latitude\": lat, \"longitude\": lon, \"date\": date, \"wavelength0\":wavelength},\n",
    "    attrs={\n",
    "        \"standard_name\": \"volume_beam_attenuation_coefficient_of_radiative_flux_in_sea_water_due_to_colored_dissolved_organic_matter\", #this name isn't real\n",
    "        \"units\": \"m-1\",\n",
    "        \"whp_name\": \"CDOM{wavelength0}\",\n",
    "        \"whp_unit\": \"1/M\",\n",
    "        \"creator_name\": \"Kosei Sasaoka\",\n",
    "        \"creator_email\": \"sasaoka@jamstec.go.jp\",\n",
    "        \"creator_institution\": \"Japan Agency for Marine-Earth Science and Technology\",\n",
    "        \"creator_type\": \"person\",\n",
    "        \"geospatial_bounds\": \"MULTIPOINT ((78.0102 -66.15))\",\n",
    "        \"geospatial_lat_min\":-66.15,\n",
    "        \"geospatial_lat_max\": -66.15,\n",
    "        \"geospatial_lon_min\": 78.0102,\n",
    "        \"geospatial_lon_max\": 78.0102,\n",
    "        \"program\": \"GO-SHIP\",\n",
    "        \"geospatial_lat_units\": \"degrees_north\",\n",
    "        \"geospatial_lon_units\": \"degrees_east\",\n",
    "        \"date_issued\": \"2016-04-12\",\n",
    "    }\n",
    ")\n",
    "cdom_qf = xr.DataArray(\n",
    "    data=cdom_qc,\n",
    "    dims=['N_PROF', \"N_LEVEL\", \"N_WAVELENGTH0\"],\n",
    "    coords={\"pressure\": ctdprs, \"latitude\": lat, \"longitude\": lon, \"date\": date, \"wavelength0\":wavelength}, \n",
    "    attrs={\n",
    "        \"standard_name\": \"volume_beam_attenuation_coefficient_of_radiative_flux_in_sea_water_due_to_colored_dissolved_organic_matter status_flag\",\n",
    "        \"whp_name\": \"CDOM{wavelength0}_FLAG_W\",\n",
    "        \"flag_values\": \"1b 2b 3b 4b 5b 6b 7b 8b 9b\",\n",
    "        \"flag_meanings\": \"def1 def2 def3 def4 def5 def6 def7 def8 def9\",\n",
    "    },\n",
    "    encoding={\n",
    "        \"dtype\": np.int8,\n",
    "        \"_FillValue\": 9,\n",
    "    }\n",
    ")"
   ]
  },
  {
   "cell_type": "code",
   "execution_count": 16,
   "metadata": {},
   "outputs": [],
   "source": [
    "example = xr.Dataset(data_vars={\n",
    "    \"var0\": oxygen, \n",
    "    \"var1\": oxygen_qf, \n",
    "    \"var2\": ph, \n",
    "    \"var3\": ph_qf, \n",
    "    \"var4\": cdom,\n",
    "    \"var5\": cdom_qf,\n",
    "    },\n",
    "    coords={\n",
    "        \"wavelength0\": wavelength,\n",
    "        \"var6\": expocode,\n",
    "        \"var7\": stnnbr, \n",
    "        \"var8\": castno, \n",
    "        \"var9\": woce,\n",
    "    },\n",
    "    attrs={\n",
    "        \"Conventions\": \"CF-1.7 ACDD-1.3 CCHDO-0.0\",\n",
    "        \"title\": \"CCHDO netCDF example file\",\n",
    "        \"warning\": \"The data are not real, this is only a file to demo features of the work in progress\"\n",
    "    }\n",
    ")"
   ]
  },
  {
   "cell_type": "code",
   "execution_count": 17,
   "metadata": {},
   "outputs": [],
   "source": [
    "example.var0.attrs[\"ancillary_variables\"] = \"var1\"\n",
    "example.var2.attrs[\"ancillary_variables\"] = \"var3\"\n",
    "example.var4.attrs[\"ancillary_variables\"] = \"var5\""
   ]
  },
  {
   "cell_type": "code",
   "execution_count": 18,
   "metadata": {},
   "outputs": [],
   "source": [
    "example.to_netcdf(\"example_cchdo.nc\")"
   ]
  },
  {
   "cell_type": "code",
   "execution_count": 19,
   "metadata": {},
   "outputs": [
    {
     "data": {
      "text/plain": [
       "OrderedDict([('Conventions', 'CF-1.7 ACDD-1.3 CCHDO-0.0'),\n",
       "             ('title', 'CCHDO netCDF example file'),\n",
       "             ('warning',\n",
       "              'The data are not real, this is only a file to demo features of the work in progress')])"
      ]
     },
     "execution_count": 19,
     "metadata": {},
     "output_type": "execute_result"
    }
   ],
   "source": [
    "example.attrs"
   ]
  },
  {
   "cell_type": "code",
   "execution_count": 29,
   "metadata": {},
   "outputs": [
    {
     "data": {
      "text/plain": [
       "{'creator_name': ['Swift, James', 'Dickson, Andrew', 'Kosei Sasaoka'],\n",
       " 'creator_email': ['jswift@ucsd.edu',\n",
       "  'adickson@ucsd.edu',\n",
       "  'sasaoka@jamstec.go.jp'],\n",
       " 'creator_institution': ['Scripps Institution of Oceanography',\n",
       "  'Scripps Institution of Oceanography',\n",
       "  'Japan Agency for Marine-Earth Science and Technology']}"
      ]
     },
     "execution_count": 29,
     "metadata": {},
     "output_type": "execute_result"
    }
   ],
   "source": [
    "from collections import defaultdict\n",
    "\n",
    "combining = (\n",
    "    \"creator_name\",\n",
    "    \"creator_email\",\n",
    "    \"creator_institution\",\n",
    "    \"geospatial_bounds\",\n",
    "    \"geospatial_lat_min\",\n",
    "    \"geospatial_lat_max\",\n",
    "    \"geospatial_lon_min\",\n",
    "    \"geospatial_lon_max\",\n",
    "    \"creator_type\",\n",
    "    \"program\",\n",
    "    \"contributor_name\",\n",
    "    \"contributor_role\",\n",
    "    \"geospatial_lat_units\",\n",
    "    \"geospatial_lon_units\",\n",
    "    \"date_issued\",\n",
    ")\n",
    "\n",
    "def combine_creators(attrd):\n",
    "    combined = {\n",
    "        \"creator_name\":[],\n",
    "        \"creator_email\":[],\n",
    "        \"creator_institution\":[]\n",
    "    }\n",
    "                \n",
    "    for key in combined:\n",
    "        for _, value in attrd[key].items():\n",
    "            if type(value) == list:\n",
    "                combined[key].extend(value)\n",
    "            else:\n",
    "                combined[key].append(value)\n",
    "    return combined\n",
    "\n",
    "attrs = defaultdict(dict)\n",
    "for var in example:\n",
    "    for key, value in example[var].attrs.items():\n",
    "        attrs[key][var] = value\n",
    "        \n",
    "combine_creators(attrs)"
   ]
  },
  {
   "cell_type": "code",
   "execution_count": 40,
   "metadata": {},
   "outputs": [
    {
     "ename": "ValueError",
     "evalue": "dimensions or multi-index levels ['var6'] do not exist",
     "output_type": "error",
     "traceback": [
      "\u001b[0;31m---------------------------------------------------------------------------\u001b[0m",
      "\u001b[0;31mValueError\u001b[0m                                Traceback (most recent call last)",
      "\u001b[0;32m<ipython-input-40-32e3f3569921>\u001b[0m in \u001b[0;36m<module>\u001b[0;34m()\u001b[0m\n\u001b[0;32m----> 1\u001b[0;31m \u001b[0mexample\u001b[0m\u001b[0;34m.\u001b[0m\u001b[0mloc\u001b[0m\u001b[0;34m[\u001b[0m\u001b[0;34m{\u001b[0m\u001b[0;34m\"var6\"\u001b[0m\u001b[0;34m:\u001b[0m\u001b[0;34m\"33RR20160208\"\u001b[0m\u001b[0;34m}\u001b[0m\u001b[0;34m]\u001b[0m\u001b[0;34m\u001b[0m\u001b[0m\n\u001b[0m",
      "\u001b[0;32m~/.pyenv/versions/3.7.0/envs/jupyter/lib/python3.7/site-packages/xarray/core/dataset.py\u001b[0m in \u001b[0;36m__getitem__\u001b[0;34m(self, key)\u001b[0m\n\u001b[1;32m    298\u001b[0m         \u001b[0;32mif\u001b[0m \u001b[0;32mnot\u001b[0m \u001b[0mutils\u001b[0m\u001b[0;34m.\u001b[0m\u001b[0mis_dict_like\u001b[0m\u001b[0;34m(\u001b[0m\u001b[0mkey\u001b[0m\u001b[0;34m)\u001b[0m\u001b[0;34m:\u001b[0m\u001b[0;34m\u001b[0m\u001b[0m\n\u001b[1;32m    299\u001b[0m             \u001b[0;32mraise\u001b[0m \u001b[0mTypeError\u001b[0m\u001b[0;34m(\u001b[0m\u001b[0;34m'can only lookup dictionaries from Dataset.loc'\u001b[0m\u001b[0;34m)\u001b[0m\u001b[0;34m\u001b[0m\u001b[0m\n\u001b[0;32m--> 300\u001b[0;31m         \u001b[0;32mreturn\u001b[0m \u001b[0mself\u001b[0m\u001b[0;34m.\u001b[0m\u001b[0mdataset\u001b[0m\u001b[0;34m.\u001b[0m\u001b[0msel\u001b[0m\u001b[0;34m(\u001b[0m\u001b[0;34m**\u001b[0m\u001b[0mkey\u001b[0m\u001b[0;34m)\u001b[0m\u001b[0;34m\u001b[0m\u001b[0m\n\u001b[0m\u001b[1;32m    301\u001b[0m \u001b[0;34m\u001b[0m\u001b[0m\n\u001b[1;32m    302\u001b[0m \u001b[0;34m\u001b[0m\u001b[0m\n",
      "\u001b[0;32m~/.pyenv/versions/3.7.0/envs/jupyter/lib/python3.7/site-packages/xarray/core/dataset.py\u001b[0m in \u001b[0;36msel\u001b[0;34m(self, indexers, method, tolerance, drop, **indexers_kwargs)\u001b[0m\n\u001b[1;32m   1608\u001b[0m         \u001b[0mindexers\u001b[0m \u001b[0;34m=\u001b[0m \u001b[0meither_dict_or_kwargs\u001b[0m\u001b[0;34m(\u001b[0m\u001b[0mindexers\u001b[0m\u001b[0;34m,\u001b[0m \u001b[0mindexers_kwargs\u001b[0m\u001b[0;34m,\u001b[0m \u001b[0;34m'sel'\u001b[0m\u001b[0;34m)\u001b[0m\u001b[0;34m\u001b[0m\u001b[0m\n\u001b[1;32m   1609\u001b[0m         pos_indexers, new_indexes = remap_label_indexers(\n\u001b[0;32m-> 1610\u001b[0;31m             self, indexers=indexers, method=method, tolerance=tolerance)\n\u001b[0m\u001b[1;32m   1611\u001b[0m         \u001b[0mresult\u001b[0m \u001b[0;34m=\u001b[0m \u001b[0mself\u001b[0m\u001b[0;34m.\u001b[0m\u001b[0misel\u001b[0m\u001b[0;34m(\u001b[0m\u001b[0mindexers\u001b[0m\u001b[0;34m=\u001b[0m\u001b[0mpos_indexers\u001b[0m\u001b[0;34m,\u001b[0m \u001b[0mdrop\u001b[0m\u001b[0;34m=\u001b[0m\u001b[0mdrop\u001b[0m\u001b[0;34m)\u001b[0m\u001b[0;34m\u001b[0m\u001b[0m\n\u001b[1;32m   1612\u001b[0m         \u001b[0;32mreturn\u001b[0m \u001b[0mresult\u001b[0m\u001b[0;34m.\u001b[0m\u001b[0m_replace_indexes\u001b[0m\u001b[0;34m(\u001b[0m\u001b[0mnew_indexes\u001b[0m\u001b[0;34m)\u001b[0m\u001b[0;34m\u001b[0m\u001b[0m\n",
      "\u001b[0;32m~/.pyenv/versions/3.7.0/envs/jupyter/lib/python3.7/site-packages/xarray/core/coordinates.py\u001b[0m in \u001b[0;36mremap_label_indexers\u001b[0;34m(obj, indexers, method, tolerance, **indexers_kwargs)\u001b[0m\n\u001b[1;32m    353\u001b[0m \u001b[0;34m\u001b[0m\u001b[0m\n\u001b[1;32m    354\u001b[0m     pos_indexers, new_indexes = indexing.remap_label_indexers(\n\u001b[0;32m--> 355\u001b[0;31m         \u001b[0mobj\u001b[0m\u001b[0;34m,\u001b[0m \u001b[0mv_indexers\u001b[0m\u001b[0;34m,\u001b[0m \u001b[0mmethod\u001b[0m\u001b[0;34m=\u001b[0m\u001b[0mmethod\u001b[0m\u001b[0;34m,\u001b[0m \u001b[0mtolerance\u001b[0m\u001b[0;34m=\u001b[0m\u001b[0mtolerance\u001b[0m\u001b[0;34m\u001b[0m\u001b[0m\n\u001b[0m\u001b[1;32m    356\u001b[0m     )\n\u001b[1;32m    357\u001b[0m     \u001b[0;31m# attach indexer's coordinate to pos_indexers\u001b[0m\u001b[0;34m\u001b[0m\u001b[0;34m\u001b[0m\u001b[0m\n",
      "\u001b[0;32m~/.pyenv/versions/3.7.0/envs/jupyter/lib/python3.7/site-packages/xarray/core/indexing.py\u001b[0m in \u001b[0;36mremap_label_indexers\u001b[0;34m(data_obj, indexers, method, tolerance)\u001b[0m\n\u001b[1;32m    243\u001b[0m     \u001b[0mnew_indexes\u001b[0m \u001b[0;34m=\u001b[0m \u001b[0;34m{\u001b[0m\u001b[0;34m}\u001b[0m\u001b[0;34m\u001b[0m\u001b[0m\n\u001b[1;32m    244\u001b[0m \u001b[0;34m\u001b[0m\u001b[0m\n\u001b[0;32m--> 245\u001b[0;31m     \u001b[0mdim_indexers\u001b[0m \u001b[0;34m=\u001b[0m \u001b[0mget_dim_indexers\u001b[0m\u001b[0;34m(\u001b[0m\u001b[0mdata_obj\u001b[0m\u001b[0;34m,\u001b[0m \u001b[0mindexers\u001b[0m\u001b[0;34m)\u001b[0m\u001b[0;34m\u001b[0m\u001b[0m\n\u001b[0m\u001b[1;32m    246\u001b[0m     \u001b[0;32mfor\u001b[0m \u001b[0mdim\u001b[0m\u001b[0;34m,\u001b[0m \u001b[0mlabel\u001b[0m \u001b[0;32min\u001b[0m \u001b[0miteritems\u001b[0m\u001b[0;34m(\u001b[0m\u001b[0mdim_indexers\u001b[0m\u001b[0;34m)\u001b[0m\u001b[0;34m:\u001b[0m\u001b[0;34m\u001b[0m\u001b[0m\n\u001b[1;32m    247\u001b[0m         \u001b[0;32mtry\u001b[0m\u001b[0;34m:\u001b[0m\u001b[0;34m\u001b[0m\u001b[0m\n",
      "\u001b[0;32m~/.pyenv/versions/3.7.0/envs/jupyter/lib/python3.7/site-packages/xarray/core/indexing.py\u001b[0m in \u001b[0;36mget_dim_indexers\u001b[0;34m(data_obj, indexers)\u001b[0m\n\u001b[1;32m    211\u001b[0m     \u001b[0;32mif\u001b[0m \u001b[0minvalid\u001b[0m\u001b[0;34m:\u001b[0m\u001b[0;34m\u001b[0m\u001b[0m\n\u001b[1;32m    212\u001b[0m         raise ValueError(\"dimensions or multi-index levels %r do not exist\"\n\u001b[0;32m--> 213\u001b[0;31m                          % invalid)\n\u001b[0m\u001b[1;32m    214\u001b[0m \u001b[0;34m\u001b[0m\u001b[0m\n\u001b[1;32m    215\u001b[0m     \u001b[0mlevel_indexers\u001b[0m \u001b[0;34m=\u001b[0m \u001b[0mdefaultdict\u001b[0m\u001b[0;34m(\u001b[0m\u001b[0mdict\u001b[0m\u001b[0;34m)\u001b[0m\u001b[0;34m\u001b[0m\u001b[0m\n",
      "\u001b[0;31mValueError\u001b[0m: dimensions or multi-index levels ['var6'] do not exist"
     ]
    }
   ],
   "source": [
    "example.loc[{\"var6\":\"33RR20160208\"}]"
   ]
  },
  {
   "cell_type": "code",
   "execution_count": 79,
   "metadata": {},
   "outputs": [
    {
     "data": {
      "text/plain": [
       "[<matplotlib.lines.Line2D at 0x11ce31ba8>]"
      ]
     },
     "execution_count": 79,
     "metadata": {},
     "output_type": "execute_result"
    },
    {
     "data": {
      "image/png": "[encoded data removed]",
      "text/plain": [
       "<Figure size 432x288 with 1 Axes>"
      ]
     },
     "metadata": {},
     "output_type": "display_data"
    }
   ],
   "source": [
    "plot(example.where(example.var7==\"6\", drop=True).var0[0], -example.where(example.var7==\"6\", drop=True).var0.pressure[0])"
   ]
  },
  {
   "cell_type": "code",
   "execution_count": 72,
   "metadata": {},
   "outputs": [],
   "source": [
    "from matplotlib.pylab import plot"
   ]
  },
  {
   "cell_type": "code",
   "execution_count": 50,
   "metadata": {},
   "outputs": [
    {
     "data": {
      "text/plain": [
       "<xarray.DataArray 'var7' (N_PROF: 3)>\n",
       "array(['1', '2', '6'], dtype='<U1')\n",
       "Coordinates:\n",
       "    latitude   (N_PROF) float64 -66.6 -66.5 -66.15\n",
       "    longitude  (N_PROF) float64 78.38 78.3 78.01\n",
       "    date       (N_PROF) datetime64[ns] 2016-02-19T05:57:00 ... 2016-02-20T03:46:00\n",
       "    var6       (N_PROF) <U12 '33RR20160208' '33RR20160208' '33RR20160208'\n",
       "    var7       (N_PROF) <U1 '1' '2' '6'\n",
       "    var8       (N_PROF) int64 1 3 1\n",
       "    var9       (N_PROF) <U4 'I08S' 'I08S' 'I08S'\n",
       "Dimensions without coordinates: N_PROF\n",
       "Attributes:\n",
       "    whp_name:  STNNBR"
      ]
     },
     "execution_count": 50,
     "metadata": {},
     "output_type": "execute_result"
    }
   ],
   "source": [
    "example.var7"
   ]
  },
  {
   "cell_type": "code",
   "execution_count": null,
   "metadata": {},
   "outputs": [],
   "source": []
  }
 ],
 "metadata": {
  "kernelspec": {
   "display_name": "Python 3",
   "language": "python",
   "name": "python3"
  },
  "language_info": {
   "codemirror_mode": {
    "name": "ipython",
    "version": 3
   },
   "file_extension": ".py",
   "mimetype": "text/x-python",
   "name": "python",
   "nbconvert_exporter": "python",
   "pygments_lexer": "ipython3",
   "version": "3.7.0"
  }
 },
 "nbformat": 4,
 "nbformat_minor": 2
}
